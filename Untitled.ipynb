{
 "cells": [
  {
   "cell_type": "markdown",
   "metadata": {},
   "source": [
    "# Exploration in the Binomial Naive Bayes Classifier"
   ]
  },
  {
   "cell_type": "code",
   "execution_count": 1,
   "metadata": {},
   "outputs": [],
   "source": [
    "import pandas as pd\n",
    "import numpy as np\n",
    "import matplotlib.pyplot as plt\n",
    "from sklearn.naive_bayes import BernoulliNB\n",
    "from sklearn.metrics import confusion_matrix\n",
    "import nltk  \n",
    "from nltk.corpus import stopwords  #used to generate a list of stop words\n"
   ]
  },
  {
   "cell_type": "markdown",
   "metadata": {},
   "source": [
    "#### Set up data frame\n",
    "Selected Amazon comments from the UCI Machine Learning database. Goal to develop a bag of words that would best predict whether the comment is positive or negative. The data set has 1000 rows with 500 classified as positive and 500 classified as negative.  \n",
    "Punctuation was removed from the comments.  \n",
    "The unusual spelling of 'comments' as 'commentz' for the column name is because the full set of words contains 'comments'. Further in the code a column is created for every word, the code would not create a duplicate named column."
   ]
  },
  {
   "cell_type": "code",
   "execution_count": 2,
   "metadata": {},
   "outputs": [],
   "source": [
    "data_set = pd.read_csv('amazon_cells_labelled.txt', delimiter='\\t', \\\n",
    "                       header=None, names=['commentz', 'sentiment'])\n",
    "pd.set_option('display.max_colwidth', 1000)\n",
    "data_set['words'] = data_set.commentz.str.strip().str.split('[\\W_]+')\n",
    "replace = {'\\.':' ','\\,':' ','\\!':' ','\\?':' '}\n",
    "data_set['commentz'].replace(replace,inplace=True,regex=True)  \n"
   ]
  },
  {
   "cell_type": "markdown",
   "metadata": {},
   "source": [
    "#### Tokenize each word of data set comments\n"
   ]
  },
  {
   "cell_type": "code",
   "execution_count": 3,
   "metadata": {},
   "outputs": [],
   "source": [
    "rows = list()\n",
    "for row in data_set[['sentiment', 'words']].iterrows():\n",
    "    r = row[1]\n",
    "    for word in r.words:\n",
    "        rows.append((r.sentiment, word))\n",
    "\n",
    "words = pd.DataFrame(rows, columns=['sentiment', 'word'])\n",
    "words = words[words.word.str.len() > 0]\n",
    "words['word'] = words.word.str.lower()"
   ]
  },
  {
   "cell_type": "markdown",
   "metadata": {},
   "source": [
    "#### Count the text frequency and develop the first test model  \n",
    "Using test frequency 'tf' in the dataframe of the same name, the most frequent words for a positive sentiment were determined. These words made the first trial bag of words (classification model).  \n",
    "Stop words (common English words) and partial words were also removed.\n",
    "Two test sets were created, 'keywords' which were created by observing the highest text frequency and 'all_keywords' which are all words except stop words and partial words.  "
   ]
  },
  {
   "cell_type": "code",
   "execution_count": 4,
   "metadata": {},
   "outputs": [],
   "source": [
    "counts = words.groupby('sentiment')\\\n",
    "    .word.value_counts()\\\n",
    "    .to_frame()\\\n",
    "    .rename(columns={'word':'n_w'})\n",
    "#counts.sort_values(by='n_w', ascending=False)  #code to sort word counts\n",
    "word_sum = counts.groupby(level=0)\\\n",
    "    .sum()\\\n",
    "    .rename(columns={'n_w': 'n_d'})\n",
    "tf = counts.join(word_sum)\n",
    "\n",
    "tf['tf'] = tf.n_w/tf.n_d\n",
    "tf.reset_index(drop=False, inplace=True, col_level=0, col_fill='')\n",
    "stop_words = set(stopwords.words('english'))\n",
    "parts = ['e','t','r','o','a','s','i','d','m','he','re','ve','ll','one','q',\n",
    "        'ac','im','ir']\n",
    "tf = tf[~tf['word'].isin(parts)]\n",
    "tf = tf[~tf['word'].isin(stop_words)]\n",
    "tf[tf['sentiment']==1].sort_values(by='tf', ascending=False)\n",
    "keywords=['great','good','excellent','nice','very','best','recommend']\n",
    "all_data_set = data_set  #all_data_set is setup for branching analysis\n",
    "\n",
    "all_keywords = tf[tf['sentiment']==1]['word'].tolist()  #to list for iteration below\n"
   ]
  },
  {
   "cell_type": "markdown",
   "metadata": {},
   "source": [
    "#### Create columns in dataframe for keywords  \n",
    "If the keyword is found in the commentz column return '1' else '0'. Will be used to count 'true positives', 'false positives', 'true negatives' and 'false negatives'.  "
   ]
  },
  {
   "cell_type": "code",
   "execution_count": 5,
   "metadata": {},
   "outputs": [],
   "source": [
    "for key in keywords:\n",
    "    data_set[key] =  np.where(data_set.commentz.str.contains(key,case=False),1,0)"
   ]
  },
  {
   "cell_type": "code",
   "execution_count": 6,
   "metadata": {
    "scrolled": true
   },
   "outputs": [],
   "source": [
    "for key in all_keywords:\n",
    "    all_data_set[key] =  np.where(data_set.commentz.str.contains(key,case=False),1,0)"
   ]
  },
  {
   "cell_type": "markdown",
   "metadata": {},
   "source": [
    "#### Naive Bayes analysis  \n",
    "The trial model has 286 mis-classifications; 65 false positives and 221 false negatives."
   ]
  },
  {
   "cell_type": "code",
   "execution_count": 7,
   "metadata": {},
   "outputs": [
    {
     "name": "stdout",
     "output_type": "stream",
     "text": [
      "Number of mislabeled points out of a total 1000 points : 286\n"
     ]
    }
   ],
   "source": [
    "data_set['sentiment_bool'] = (data_set['sentiment'] == 1)\n",
    "data = data_set[keywords]\n",
    "target = data_set['sentiment_bool']\n",
    "bnb = BernoulliNB()\n",
    "bnb.fit(data, target)\n",
    "y_pred = bnb.predict(data)\n",
    "print(\"Number of mislabeled points out of a total {} points : {}\".format(\n",
    "    data.shape[0],\n",
    "    (target != y_pred).sum()\n",
    "))"
   ]
  },
  {
   "cell_type": "code",
   "execution_count": 8,
   "metadata": {},
   "outputs": [
    {
     "data": {
      "text/plain": [
       "array([[435,  65],\n",
       "       [221, 279]], dtype=int64)"
      ]
     },
     "execution_count": 8,
     "metadata": {},
     "output_type": "execute_result"
    }
   ],
   "source": [
    "confusion_matrix(target, y_pred)"
   ]
  },
  {
   "cell_type": "markdown",
   "metadata": {},
   "source": [
    "#### Set up a dataframe to make an ROC plot - trial data set\n",
    "The trial data set is analyzed to determine the contribution of addition of each word. An ROC plot is created below. The ROC plots the true positive rate (sensitivity) against the false positive rate (1-specificity). Where the maximum change of the true positive rate corresponds to the minimal change of the false positive rate, the most efficient model is achieved.  \n",
    "In the ROC plot below, the optimal model was not achieved.  "
   ]
  },
  {
   "cell_type": "code",
   "execution_count": 9,
   "metadata": {},
   "outputs": [
    {
     "data": {
      "text/html": [
       "<div>\n",
       "<style scoped>\n",
       "    .dataframe tbody tr th:only-of-type {\n",
       "        vertical-align: middle;\n",
       "    }\n",
       "\n",
       "    .dataframe tbody tr th {\n",
       "        vertical-align: top;\n",
       "    }\n",
       "\n",
       "    .dataframe thead th {\n",
       "        text-align: right;\n",
       "    }\n",
       "</style>\n",
       "<table border=\"1\" class=\"dataframe\">\n",
       "  <thead>\n",
       "    <tr style=\"text-align: right;\">\n",
       "      <th></th>\n",
       "      <th>key_word</th>\n",
       "      <th>true_pos</th>\n",
       "      <th>false_pos</th>\n",
       "      <th>false_neg</th>\n",
       "      <th>true_neg</th>\n",
       "      <th>Nb</th>\n",
       "      <th>Nm</th>\n",
       "      <th>p_c</th>\n",
       "      <th>cum_pos_rate</th>\n",
       "      <th>cum_neg_rate</th>\n",
       "      <th>cum_false_pos_rate</th>\n",
       "      <th>cum_false_neg_rate</th>\n",
       "      <th>check_sum</th>\n",
       "    </tr>\n",
       "  </thead>\n",
       "  <tbody>\n",
       "    <tr>\n",
       "      <th>0</th>\n",
       "      <td>great</td>\n",
       "      <td>92</td>\n",
       "      <td>6</td>\n",
       "      <td>408</td>\n",
       "      <td>494</td>\n",
       "      <td>500</td>\n",
       "      <td>500</td>\n",
       "      <td>0.243243</td>\n",
       "      <td>0.184000</td>\n",
       "      <td>0.816000</td>\n",
       "      <td>0.012000</td>\n",
       "      <td>0.988000</td>\n",
       "      <td>2.000000</td>\n",
       "    </tr>\n",
       "    <tr>\n",
       "      <th>4</th>\n",
       "      <td>very</td>\n",
       "      <td>80</td>\n",
       "      <td>37</td>\n",
       "      <td>420</td>\n",
       "      <td>463</td>\n",
       "      <td>500</td>\n",
       "      <td>500</td>\n",
       "      <td>0.270690</td>\n",
       "      <td>0.314560</td>\n",
       "      <td>0.970560</td>\n",
       "      <td>0.085112</td>\n",
       "      <td>0.999112</td>\n",
       "      <td>2.369344</td>\n",
       "    </tr>\n",
       "    <tr>\n",
       "      <th>1</th>\n",
       "      <td>good</td>\n",
       "      <td>62</td>\n",
       "      <td>13</td>\n",
       "      <td>438</td>\n",
       "      <td>487</td>\n",
       "      <td>500</td>\n",
       "      <td>500</td>\n",
       "      <td>0.188612</td>\n",
       "      <td>0.399555</td>\n",
       "      <td>0.996349</td>\n",
       "      <td>0.108899</td>\n",
       "      <td>0.999977</td>\n",
       "      <td>2.504780</td>\n",
       "    </tr>\n",
       "    <tr>\n",
       "      <th>2</th>\n",
       "      <td>excellent</td>\n",
       "      <td>26</td>\n",
       "      <td>1</td>\n",
       "      <td>474</td>\n",
       "      <td>499</td>\n",
       "      <td>500</td>\n",
       "      <td>500</td>\n",
       "      <td>0.076046</td>\n",
       "      <td>0.430778</td>\n",
       "      <td>0.999810</td>\n",
       "      <td>0.110681</td>\n",
       "      <td>1.000000</td>\n",
       "      <td>2.541269</td>\n",
       "    </tr>\n",
       "    <tr>\n",
       "      <th>3</th>\n",
       "      <td>nice</td>\n",
       "      <td>23</td>\n",
       "      <td>1</td>\n",
       "      <td>477</td>\n",
       "      <td>499</td>\n",
       "      <td>500</td>\n",
       "      <td>500</td>\n",
       "      <td>0.067878</td>\n",
       "      <td>0.456962</td>\n",
       "      <td>0.999991</td>\n",
       "      <td>0.112460</td>\n",
       "      <td>1.000000</td>\n",
       "      <td>2.569413</td>\n",
       "    </tr>\n",
       "    <tr>\n",
       "      <th>6</th>\n",
       "      <td>recommend</td>\n",
       "      <td>21</td>\n",
       "      <td>6</td>\n",
       "      <td>479</td>\n",
       "      <td>494</td>\n",
       "      <td>500</td>\n",
       "      <td>500</td>\n",
       "      <td>0.071977</td>\n",
       "      <td>0.479770</td>\n",
       "      <td>1.000000</td>\n",
       "      <td>0.123110</td>\n",
       "      <td>1.000000</td>\n",
       "      <td>2.602880</td>\n",
       "    </tr>\n",
       "    <tr>\n",
       "      <th>5</th>\n",
       "      <td>best</td>\n",
       "      <td>20</td>\n",
       "      <td>2</td>\n",
       "      <td>480</td>\n",
       "      <td>498</td>\n",
       "      <td>500</td>\n",
       "      <td>500</td>\n",
       "      <td>0.061538</td>\n",
       "      <td>0.500579</td>\n",
       "      <td>1.000000</td>\n",
       "      <td>0.126618</td>\n",
       "      <td>1.000000</td>\n",
       "      <td>2.627197</td>\n",
       "    </tr>\n",
       "  </tbody>\n",
       "</table>\n",
       "</div>"
      ],
      "text/plain": [
       "    key_word  true_pos  false_pos  false_neg  true_neg   Nb   Nm       p_c  \\\n",
       "0      great        92          6        408       494  500  500  0.243243   \n",
       "4       very        80         37        420       463  500  500  0.270690   \n",
       "1       good        62         13        438       487  500  500  0.188612   \n",
       "2  excellent        26          1        474       499  500  500  0.076046   \n",
       "3       nice        23          1        477       499  500  500  0.067878   \n",
       "6  recommend        21          6        479       494  500  500  0.071977   \n",
       "5       best        20          2        480       498  500  500  0.061538   \n",
       "\n",
       "   cum_pos_rate  cum_neg_rate  cum_false_pos_rate  cum_false_neg_rate  \\\n",
       "0      0.184000      0.816000            0.012000            0.988000   \n",
       "4      0.314560      0.970560            0.085112            0.999112   \n",
       "1      0.399555      0.996349            0.108899            0.999977   \n",
       "2      0.430778      0.999810            0.110681            1.000000   \n",
       "3      0.456962      0.999991            0.112460            1.000000   \n",
       "6      0.479770      1.000000            0.123110            1.000000   \n",
       "5      0.500579      1.000000            0.126618            1.000000   \n",
       "\n",
       "   check_sum  \n",
       "0   2.000000  \n",
       "4   2.369344  \n",
       "1   2.504780  \n",
       "2   2.541269  \n",
       "3   2.569413  \n",
       "6   2.602880  \n",
       "5   2.627197  "
      ]
     },
     "execution_count": 9,
     "metadata": {},
     "output_type": "execute_result"
    }
   ],
   "source": [
    "kw = list(keywords)\n",
    "scores = dict()\n",
    "\n",
    "for key in kw:\n",
    "    scores.update({key:[data_set[(data_set[key]==1)\\\n",
    "            &(data_set['sentiment']==1)][key].count(),\\\n",
    "                        data_set[(data_set[key]==1)\\\n",
    "           &(data_set['sentiment']==0)][key].count(),\\\n",
    "                       data_set[(data_set[key]==0)\\\n",
    "           &(data_set['sentiment']==1)][key].count(),\\\n",
    "                       data_set[(data_set[key]==0)\\\n",
    "           &(data_set['sentiment']==0)][key].count(),\n",
    "                        (data_set['sentiment']==1).sum(),\\\n",
    "                        (data_set['sentiment']==0).sum()]})\n",
    "\n",
    "\n",
    "tp = pd.DataFrame.from_dict(scores, orient='index')\n",
    "tp.reset_index(inplace=True)\n",
    "tp.rename({'index':'key_word',0:'true_pos',1:'false_pos',\\\n",
    "          2:'false_neg',3:'true_neg',4:'Nb',5:'Nm'},axis=1,inplace=True)\n",
    "tp.sort_values(['true_pos'],ascending=False,inplace=True)\n",
    "tp['p_c'] = ((tp['true_pos']+tp['false_pos'])+(tp['true_pos']*(tp['Nb']\\\n",
    "                /(tp['Nb']+tp['Nm']))))/(tp['Nb']+tp['true_pos'])\n",
    "tp['cum_pos_rate'] = 1-np.cumprod(1-(tp['true_pos']/tp['Nb']))\n",
    "tp['cum_neg_rate'] = 1-np.cumprod(1-(tp['false_neg']/tp['Nm']))\n",
    "tp['cum_false_pos_rate'] = 1-np.cumprod(1-(tp['false_pos']/tp['Nb']))\n",
    "tp['cum_false_neg_rate'] = 1-np.cumprod(1-(tp['true_neg']/tp['Nm']))\n",
    "tp['check_sum'] = tp['cum_pos_rate']+tp['cum_neg_rate']+\\\n",
    "tp['cum_false_pos_rate']+tp['cum_false_neg_rate']\n",
    "tp"
   ]
  },
  {
   "cell_type": "code",
   "execution_count": 10,
   "metadata": {},
   "outputs": [
    {
     "data": {
      "image/png": "[encoded data removed]",
      "text/plain": [
       "<Figure size 432x288 with 1 Axes>"
      ]
     },
     "metadata": {},
     "output_type": "display_data"
    }
   ],
   "source": [
    "plt.scatter(tp.cum_false_pos_rate,tp.cum_pos_rate,label='model')\n",
    "plt.plot([0,1],[0,1],'b--', label='chance')\n",
    "plt.title('Lift Curve\\nAmazon Customer Reviews')\n",
    "plt.xlabel('False Positive Rate\\n(1-specificity)')\n",
    "plt.xlim(0,1)\n",
    "plt.ylabel('True Positive Rate\\n(Sensitivity)')\n",
    "plt.ylim(0,1)\n",
    "plt.legend()\n",
    "plt.grid()\n",
    "plt.show()"
   ]
  },
  {
   "cell_type": "markdown",
   "metadata": {},
   "source": [
    "#### Use all words for ROC plot.   \n",
    "All words do not produce the optimal model. Ideally, an algorithm would permutate through all words and return the optimal set. Below, a set of words where the true positives are greater than two times the false positives and where the true positive count is greater than 10 are selected.  \n",
    "Where the true positive rate approaches 1.0 and the false positive rate remains less than 0.4 should be the optimal subset.  "
   ]
  },
  {
   "cell_type": "markdown",
   "metadata": {
    "scrolled": true
   },
   "source": [
    "import warnings\n",
    "warnings.simplefilter(action='ignore', category='SettingWithCopyWarning')\n",
    "all_kw = list(all_keywords)\n",
    "all_scores = dict()\n",
    "\n",
    "for key in all_kw:\n",
    "    all_scores.update({key:[all_data_set[(all_data_set[key]==1)\\\n",
    "            &(all_data_set['sentiment']==1)][key].count(),\\\n",
    "                        all_data_set[(all_data_set[key]==1)\\\n",
    "           &(all_data_set['sentiment']==0)][key].count(),\\\n",
    "                       all_data_set[(all_data_set[key]==0)\\\n",
    "           &(all_data_set['sentiment']==1)][key].count(),\\\n",
    "                       all_data_set[(all_data_set[key]==0)\\\n",
    "           &(all_data_set['sentiment']==0)][key].count(),\n",
    "                        (all_data_set['sentiment']==1).sum(),\\\n",
    "                        (all_data_set['sentiment']==0).sum()]})\n",
    "\n",
    "pre_all_tp = pd.DataFrame.from_dict(all_scores, orient='index')\n",
    "pre_all_tp.reset_index(inplace=True)\n",
    "pre_all_tp.rename({'index':'key_word',0:'true_pos',1:'false_pos',\\\n",
    "          2:'false_neg',3:'true_neg',4:'Nb',5:'Nm'},axis=1,inplace=True)\n",
    "pre_all_tp.sort_values(['true_pos','false_pos'],ascending=[False,False],inplace=True)\n",
    "mask_1 = pre_all_tp[pre_all_tp['true_pos'] > 2*(pre_all_tp['false_pos'])] \n",
    "mask_2 = pre_all_tp[pre_all_tp['true_pos'] > 10]\n",
    "all_tp = pd.concat((mask_1, mask_2), axis=0)\n",
    "all_tp['cum_pos_rate'] = 1-np.cumprod(1-(all_tp['true_pos']/all_tp['Nb']))\n",
    "all_tp['cum_neg_rate'] = 1-np.cumprod(1-(all_tp['false_neg']/all_tp['Nm']))\n",
    "all_tp['cum_false_pos_rate'] = 1-np.cumprod(1-(all_tp['false_pos']/all_tp['Nb']))\n",
    "all_tp['cum_false_neg_rate'] = 1-np.cumprod(1-(all_tp['true_neg']/all_tp['Nm']))\n",
    "all_tp['check_sum'] = all_tp['cum_pos_rate']+all_tp['cum_neg_rate']+all_tp['cum_false_pos_rate']+all_tp['cum_false_neg_rate']\n"
   ]
  },
  {
   "cell_type": "code",
   "execution_count": 18,
   "metadata": {
    "scrolled": true
   },
   "outputs": [],
   "source": [
    "import warnings\n",
    "warnings.simplefilter(action='ignore', category='SettingWithCopyWarning')\n",
    "all_kw = list(all_keywords)\n",
    "all_scores = dict()\n",
    "\n",
    "for key in all_kw:\n",
    "    all_scores.update({key:[all_data_set[(all_data_set[key]==1)\\\n",
    "            &(all_data_set['sentiment']==1)][key].count(),\\\n",
    "                        all_data_set[(all_data_set[key]==1)\\\n",
    "           &(all_data_set['sentiment']==0)][key].count(),\\\n",
    "                       all_data_set[(all_data_set[key]==0)\\\n",
    "           &(all_data_set['sentiment']==1)][key].count(),\\\n",
    "                       all_data_set[(all_data_set[key]==0)\\\n",
    "           &(all_data_set['sentiment']==0)][key].count(),\n",
    "                        (all_data_set['sentiment']==1).sum(),\\\n",
    "                        (all_data_set['sentiment']==0).sum()]})\n",
    "\n",
    "pre_all_tp = pd.DataFrame.from_dict(all_scores, orient='index')\n",
    "pre_all_tp.reset_index(inplace=True)\n",
    "pre_all_tp.rename({'index':'key_word',0:'true_pos',1:'false_pos',\\\n",
    "          2:'false_neg',3:'true_neg',4:'Nb',5:'Nm'},axis=1,inplace=True)\n",
    "pre_all_tp.sample(frac=1).reset_index(drop=True)\n",
    "#pre_all_tp.sample(['true_pos','false_pos'],ascending=[False,False],inplace=True)\n",
    "mask_1 = pre_all_tp[pre_all_tp['true_pos'] > 2*(pre_all_tp['false_pos'])] \n",
    "mask_2 = pre_all_tp[pre_all_tp['true_pos'] > 10]\n",
    "all_tp = pd.concat((mask_1, mask_2), axis=0)\n",
    "all_tp['cum_pos_rate'] = 1-np.cumprod(1-(all_tp['true_pos']/all_tp['Nb']))\n",
    "all_tp['cum_neg_rate'] = 1-np.cumprod(1-(all_tp['false_neg']/all_tp['Nm']))\n",
    "all_tp['cum_false_pos_rate'] = 1-np.cumprod(1-(all_tp['false_pos']/all_tp['Nb']))\n",
    "all_tp['cum_false_neg_rate'] = 1-np.cumprod(1-(all_tp['true_neg']/all_tp['Nm']))\n",
    "all_tp['check_sum'] = all_tp['cum_pos_rate']+all_tp['cum_neg_rate']+all_tp['cum_false_pos_rate']+all_tp['cum_false_neg_rate']\n"
   ]
  },
  {
   "cell_type": "code",
   "execution_count": 12,
   "metadata": {},
   "outputs": [
    {
     "data": {
      "image/png": "[encoded data removed]",
      "text/plain": [
       "<Figure size 432x288 with 1 Axes>"
      ]
     },
     "metadata": {},
     "output_type": "display_data"
    }
   ],
   "source": [
    "plt.scatter(all_tp.cum_false_pos_rate,all_tp.cum_pos_rate,label='model')\n",
    "plt.plot([0,1],[0,1],'b--', label='chance')\n",
    "plt.title('Lift Curve\\nAmazon Customer Reviews')\n",
    "plt.xlabel('False Positive Rate\\n(1-specificity)')\n",
    "plt.xlim(0,1)\n",
    "plt.ylabel('True Positive Rate\\n(Sensitivity)')\n",
    "plt.ylim(0,1)\n",
    "plt.legend()\n",
    "plt.grid()\n",
    "plt.show()"
   ]
  },
  {
   "cell_type": "code",
   "execution_count": 13,
   "metadata": {},
   "outputs": [],
   "source": [
    "sub_all_tp = all_tp[all_tp['cum_false_pos_rate']<0.4]\n",
    "sub_keywords = sub_all_tp['key_word'].tolist()\n",
    "all_keywords = all_tp['key_word'].tolist()"
   ]
  },
  {
   "cell_type": "markdown",
   "metadata": {},
   "source": [
    "#### Comparisons of two models.  \n",
    "The subset did did increase the number of misclassified, but increased the number of true positives and decreased the number of false positives."
   ]
  },
  {
   "cell_type": "code",
   "execution_count": 14,
   "metadata": {},
   "outputs": [
    {
     "name": "stdout",
     "output_type": "stream",
     "text": [
      "Number of mislabeled points out of a total 1000 points : 182\n"
     ]
    }
   ],
   "source": [
    "all_data_set['sentiment_bool'] = (all_data_set['sentiment'] == 1)\n",
    "all_data = all_data_set[all_keywords]\n",
    "all_target = all_data_set['sentiment_bool']\n",
    "all_bnb = BernoulliNB()\n",
    "all_bnb.fit(all_data, all_target)\n",
    "all_y_pred = all_bnb.predict(all_data)\n",
    "print(\"Number of mislabeled points out of a total {} points : {}\".format(\n",
    "    all_data.shape[0],\n",
    "    (all_target != all_y_pred).sum()\n",
    "))"
   ]
  },
  {
   "cell_type": "code",
   "execution_count": 15,
   "metadata": {},
   "outputs": [
    {
     "data": {
      "text/plain": [
       "array([[465,  35],\n",
       "       [147, 353]], dtype=int64)"
      ]
     },
     "execution_count": 15,
     "metadata": {},
     "output_type": "execute_result"
    }
   ],
   "source": [
    "confusion_matrix(all_target, all_y_pred)"
   ]
  },
  {
   "cell_type": "code",
   "execution_count": 16,
   "metadata": {},
   "outputs": [
    {
     "name": "stdout",
     "output_type": "stream",
     "text": [
      "Number of mislabeled points out of a total 1000 points : 190\n"
     ]
    }
   ],
   "source": [
    "all_data_set['sentiment_bool'] = (all_data_set['sentiment'] == 1)\n",
    "sub_data = all_data_set[sub_keywords]\n",
    "sub_target = all_data_set['sentiment_bool']\n",
    "sub_bnb = BernoulliNB()\n",
    "sub_bnb.fit(sub_data, sub_target)\n",
    "sub_y_pred = sub_bnb.predict(sub_data)\n",
    "print(\"Number of mislabeled points out of a total {} points : {}\".format(\n",
    "    sub_data.shape[0],\n",
    "    (sub_target != sub_y_pred).sum()\n",
    "))"
   ]
  },
  {
   "cell_type": "code",
   "execution_count": 17,
   "metadata": {},
   "outputs": [
    {
     "data": {
      "text/plain": [
       "array([[478,  22],\n",
       "       [168, 332]], dtype=int64)"
      ]
     },
     "execution_count": 17,
     "metadata": {},
     "output_type": "execute_result"
    }
   ],
   "source": [
    "confusion_matrix(sub_target, sub_y_pred)"
   ]
  },
  {
   "cell_type": "code",
   "execution_count": null,
   "metadata": {},
   "outputs": [],
   "source": []
  }
 ],
 "metadata": {
  "kernelspec": {
   "display_name": "Python 3",
   "language": "python",
   "name": "python3"
  },
  "language_info": {
   "codemirror_mode": {
    "name": "ipython",
    "version": 3
   },
   "file_extension": ".py",
   "mimetype": "text/x-python",
   "name": "python",
   "nbconvert_exporter": "python",
   "pygments_lexer": "ipython3",
   "version": "3.7.0"
  },
  "toc": {
   "base_numbering": 1,
   "nav_menu": {},
   "number_sections": true,
   "sideBar": true,
   "skip_h1_title": true,
   "title_cell": "",
   "title_sidebar": "Contents",
   "toc_cell": false,
   "toc_position": {},
   "toc_section_display": true,
   "toc_window_display": true
  }
 },
 "nbformat": 4,
 "nbformat_minor": 2
}
